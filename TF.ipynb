{
  "nbformat": 4,
  "nbformat_minor": 0,
  "metadata": {
    "colab": {
      "name": "TF.ipynb",
      "provenance": [],
      "authorship_tag": "ABX9TyNZdFdipwr+/2XQFr44sroP",
      "include_colab_link": true
    },
    "kernelspec": {
      "name": "python3",
      "display_name": "Python 3"
    },
    "language_info": {
      "name": "python"
    }
  },
  "cells": [
    {
      "cell_type": "markdown",
      "metadata": {
        "id": "view-in-github",
        "colab_type": "text"
      },
      "source": [
        "<a href=\"https://colab.research.google.com/github/Kaaviyaa-A/Tensorflow/blob/main/TF.ipynb\" target=\"_parent\"><img src=\"https://colab.research.google.com/assets/colab-badge.svg\" alt=\"Open In Colab\"/></a>"
      ]
    },
    {
      "cell_type": "code",
      "execution_count": null,
      "metadata": {
        "id": "wnD1InfcNDUp"
      },
      "outputs": [],
      "source": [
        "from tensorflow.keras import Model, layers\n",
        "import tensorflow as tf\n",
        "import numpy as np\n",
        "# MNIST dataset parameters.\n",
        "num_classes = 10 # 0 to 9 digits\n",
        "num_features = 784 # 28*28\n",
        "\n",
        "# Training parameters.\n",
        "learning_rate = 0.01\n",
        "training_steps = 1000\n",
        "batch_size = 256\n",
        "display_step = 100"
      ]
    },
    {
      "cell_type": "code",
      "source": [
        "# Prepare MNIST data.\n",
        "from tensorflow.keras.datasets import mnist\n",
        "(x_train, y_train), (x_test, y_test) = mnist.load_data()\n",
        "# Convert to float32.\n",
        "x_train, x_test = np.array(x_train, np.float32), np.array(x_test, np.float32)\n",
        "# Flatten images to 1-D vector of 784 features (28*28).\n",
        "x_train, x_test = x_train.reshape([-1, num_features]), x_test.reshape([-1, num_features])\n",
        "# Normalize images value from [0, 255] to [0, 1].\n",
        "x_train, x_test = x_train / 255., x_test / 255.\n",
        "# Use tf.data API to shuffle and batch data.\n",
        "train_data = tf.data.Dataset.from_tensor_slices((x_train, y_train))\n",
        "train_data = train_data.repeat().shuffle(5000).batch(batch_size).prefetch(1)\n"
      ],
      "metadata": {
        "id": "2uv94bLfOQQF"
      },
      "execution_count": null,
      "outputs": []
    },
    {
      "cell_type": "code",
      "source": [
        "# Create TF Model.\n",
        "class NeuralNet(Model):\n",
        "    # Set layers.\n",
        "    def __init__(self):\n",
        "        super(NeuralNet, self).__init__(name=\"NeuralNet\")\n",
        "\n",
        "        self.fc1 = layers.Dense(64, activation=tf.nn.relu)\n",
        "\n",
        "        self.fc2 = layers.Dense(128, activation=tf.nn.relu)\n",
        "        \n",
        "        self.out = layers.Dense(num_classes, activation=tf.nn.softmax)\n",
        "\n",
        "    # Set forward pass.\n",
        "    def __call__(self, x, is_training=False):\n",
        "        x = self.fc1(x)\n",
        "        x = self.out(x)\n",
        "        if not is_training:\n",
        "            # tf cross entropy expect logits without softmax, so only\n",
        "            # apply softmax when not training.\n",
        "            x = tf.nn.softmax(x)\n",
        "        return x\n",
        "\n",
        "# Build neural network model.\n",
        "neural_net = NeuralNet()"
      ],
      "metadata": {
        "id": "WfW2Po5fNOUF"
      },
      "execution_count": null,
      "outputs": []
    },
    {
      "cell_type": "code",
      "source": [
        "# Cross-Entropy loss function.\n",
        "def cross_entropy(y_pred, y_true):\n",
        "    y_true = tf.cast(y_true, tf.int64)\n",
        "    crossentropy = tf.nn.sparse_softmax_cross_entropy_with_logits(labels=y_true, logits=y_pred)\n",
        "    return tf.reduce_mean(crossentropy)\n",
        "\n",
        "# Accuracy metric.\n",
        "def accuracy(y_pred, y_true):\n",
        "    # Predicted class is the index of highest score in prediction vector (i.e. argmax).\n",
        "    correct_prediction = tf.equal(tf.argmax(y_pred, 1), tf.cast(y_true, tf.int64))\n",
        "    return tf.reduce_mean(tf.cast(correct_prediction, tf.float32))\n",
        "\n",
        "# Adam optimizer.\n",
        "optimizer = tf.optimizers.Adam(learning_rate)"
      ],
      "metadata": {
        "id": "eU2EUMzmNOXL"
      },
      "execution_count": null,
      "outputs": []
    },
    {
      "cell_type": "code",
      "source": [
        "# Optimization process. \n",
        "def run_optimization(x, y):\n",
        "    # Wrap computation inside a GradientTape for automatic differentiation.\n",
        "    with tf.GradientTape() as g:\n",
        "        pred = neural_net(x, is_training=True)\n",
        "        loss = cross_entropy(pred, y)\n",
        "\n",
        "        # Compute gradients.\n",
        "        gradients = g.gradient(loss, neural_net.trainable_variables)\n",
        "\n",
        "        # Update W and b following gradients.\n",
        "        optimizer.apply_gradients(zip(gradients, neural_net.trainable_variables))\n"
      ],
      "metadata": {
        "id": "tj-rWrBPNPew"
      },
      "execution_count": null,
      "outputs": []
    },
    {
      "cell_type": "code",
      "source": [
        "# Run training for the given number of steps.\n",
        "for step, (batch_x, batch_y) in enumerate(train_data.take(training_steps), 1):\n",
        "    # Run the optimization to update W and b values.\n",
        "    run_optimization(batch_x, batch_y)\n",
        "    \n",
        "    if step % display_step == 0:\n",
        "        pred = neural_net(batch_x, is_training=False)\n",
        "        loss = cross_entropy(pred, batch_y)\n",
        "        acc = accuracy(pred, batch_y)\n",
        "        print(\"step: %i, loss: %f, accuracy: %f\" % (step, loss, acc))\n"
      ],
      "metadata": {
        "colab": {
          "base_uri": "https://localhost:8080/"
        },
        "id": "p2MtvPsoNPhd",
        "outputId": "ae80e8f3-1bd6-4200-ee31-05ca6de53db3"
      },
      "execution_count": null,
      "outputs": [
        {
          "output_type": "stream",
          "name": "stdout",
          "text": [
            "step: 100, loss: 2.186844, accuracy: 0.917969\n",
            "step: 200, loss: 2.180897, accuracy: 0.949219\n",
            "step: 300, loss: 2.179419, accuracy: 0.953125\n",
            "step: 400, loss: 2.178565, accuracy: 0.960938\n",
            "step: 500, loss: 2.175245, accuracy: 0.976562\n",
            "step: 600, loss: 2.177319, accuracy: 0.964844\n",
            "step: 700, loss: 2.173966, accuracy: 0.988281\n",
            "step: 800, loss: 2.175683, accuracy: 0.976562\n",
            "step: 900, loss: 2.175335, accuracy: 0.976562\n",
            "step: 1000, loss: 2.179305, accuracy: 0.949219\n"
          ]
        }
      ]
    },
    {
      "cell_type": "code",
      "source": [
        "neural_net.save_weights(filepath=\"./tfmodel.pb\")"
      ],
      "metadata": {
        "id": "dUbFlH-RfnB7"
      },
      "execution_count": null,
      "outputs": []
    },
    {
      "cell_type": "code",
      "source": [
        "# Re-build neural network model with default values.\n",
        "neural_net = NeuralNet()\n",
        "# Test model performance.\n",
        "pred = neural_net(batch_x)\n",
        "print(\"accuracy: %f\" % accuracy(pred, batch_y))"
      ],
      "metadata": {
        "id": "jqJeLeFKNoZc",
        "colab": {
          "base_uri": "https://localhost:8080/"
        },
        "outputId": "8460a048-580d-40a8-e6cc-565f31cada6a"
      },
      "execution_count": null,
      "outputs": [
        {
          "output_type": "stream",
          "name": "stdout",
          "text": [
            "accuracy: 0.152344\n"
          ]
        }
      ]
    },
    {
      "cell_type": "code",
      "source": [
        "# Load saved weights.\n",
        "neural_net.load_weights(filepath=\"./tfmodel.pb\")"
      ],
      "metadata": {
        "id": "n5CxXHT9NodZ",
        "colab": {
          "base_uri": "https://localhost:8080/"
        },
        "outputId": "ec593956-d023-438c-888d-a070085f6856"
      },
      "execution_count": null,
      "outputs": [
        {
          "output_type": "execute_result",
          "data": {
            "text/plain": [
              "<tensorflow.python.training.tracking.util.CheckpointLoadStatus at 0x7f0fc3873ad0>"
            ]
          },
          "metadata": {},
          "execution_count": 27
        }
      ]
    },
    {
      "cell_type": "code",
      "source": [
        "# Test that weights loaded correctly.\n",
        "pred = neural_net(batch_x)\n",
        "print(\"accuracy: %f\" % accuracy(pred, batch_y))"
      ],
      "metadata": {
        "colab": {
          "base_uri": "https://localhost:8080/"
        },
        "id": "e_boOnlKf3fw",
        "outputId": "dcaa10a2-91c4-4419-b5f6-c8951ce19bca"
      },
      "execution_count": null,
      "outputs": [
        {
          "output_type": "stream",
          "name": "stdout",
          "text": [
            "accuracy: 0.949219\n"
          ]
        }
      ]
    }
  ]
}